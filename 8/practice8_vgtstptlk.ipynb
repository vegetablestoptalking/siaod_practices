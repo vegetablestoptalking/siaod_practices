{
  "nbformat": 4,
  "nbformat_minor": 0,
  "metadata": {
    "colab": {
      "name": "practice8_vgtstptlk.ipynb",
      "provenance": []
    },
    "kernelspec": {
      "name": "python3",
      "display_name": "Python 3"
    }
  },
  "cells": [
    {
      "cell_type": "markdown",
      "metadata": {
        "id": "QzQ6tZNWYlws",
        "colab_type": "text"
      },
      "source": [
        "#Практическая работа 8"
      ]
    },
    {
      "cell_type": "code",
      "metadata": {
        "id": "I0Muckd4Zchl",
        "colab_type": "code",
        "outputId": "f319db0e-07a8-47b4-f105-f89a254f4058",
        "colab": {
          "base_uri": "https://localhost:8080/",
          "height": 136
        }
      },
      "source": [
        "import matplotlib.pyplot as plt\n",
        "import requests"
      ],
      "execution_count": 0,
      "outputs": [
        {
          "output_type": "stream",
          "text": [
            "Requirement already up-to-date: matplotlib in /usr/local/lib/python3.6/dist-packages (3.2.1)\n",
            "Requirement already satisfied, skipping upgrade: kiwisolver>=1.0.1 in /usr/local/lib/python3.6/dist-packages (from matplotlib) (1.2.0)\n",
            "Requirement already satisfied, skipping upgrade: numpy>=1.11 in /usr/local/lib/python3.6/dist-packages (from matplotlib) (1.18.4)\n",
            "Requirement already satisfied, skipping upgrade: cycler>=0.10 in /usr/local/lib/python3.6/dist-packages (from matplotlib) (0.10.0)\n",
            "Requirement already satisfied, skipping upgrade: python-dateutil>=2.1 in /usr/local/lib/python3.6/dist-packages (from matplotlib) (2.8.1)\n",
            "Requirement already satisfied, skipping upgrade: pyparsing!=2.0.4,!=2.1.2,!=2.1.6,>=2.0.1 in /usr/local/lib/python3.6/dist-packages (from matplotlib) (2.4.7)\n",
            "Requirement already satisfied, skipping upgrade: six in /usr/local/lib/python3.6/dist-packages (from cycler>=0.10->matplotlib) (1.12.0)\n"
          ],
          "name": "stdout"
        }
      ]
    },
    {
      "cell_type": "markdown",
      "metadata": {
        "id": "fo8l63JlaQsP",
        "colab_type": "text"
      },
      "source": [
        "## Основные функции"
      ]
    },
    {
      "cell_type": "code",
      "metadata": {
        "id": "zAWS8e9uZeQP",
        "colab_type": "code",
        "colab": {}
      },
      "source": [
        "def parse_csv(data):\n",
        "  test_data = data.split('\\n')\n",
        "  covid = dict()\n",
        "  test_data[2].split(',')[1]\n",
        "  for i in range(1, len(test_data)-1):\n",
        "    local_data = test_data[i].split(',')\n",
        "    country = local_data[1]\n",
        "    infected = local_data[4::]\n",
        "    covid.update({country: list(map(float, infected))})\n",
        "  return test_data[0].split(',')[4::], covid\n",
        "\n",
        "\n",
        "def show_graph1(days, confirmed, recovered):\n",
        "  fig, ax = plt.subplots()\n",
        "  ax.plot(days, confirmed)\n",
        "  ax.plot(days, recovered)\n",
        "  ax.set(xlabel='Дни', ylabel='Количество людей',\n",
        "       title='covid')\n",
        "  ax.set_xticks(range(0, len(days), 20))\n",
        "  plt.show()\n",
        "  \n",
        "\n",
        "\n",
        "def daily(lst):\n",
        "    new_lst = []\n",
        "    new_lst.append(lst[0])\n",
        "    for i in range(1, len(lst)):\n",
        "      new_lst.append(lst[i]-lst[i-1])\n",
        "    return new_lst\n",
        "\n",
        " # Функция для подсчета случаев за день\n",
        " # TODO!\n",
        "def show_graph2(days, confirmed, recovered):\n",
        "  fig, ax = plt.subplots()\n",
        "  rects1 = ax.bar(days, daily(confirmed), label='Заразившиеся')\n",
        "  rects2 = ax.bar(days, daily(recovered), label='Выздоровевшие')\n",
        "  ax.set_xticks(range(0, len(days), 20))\n",
        "  plt.show()\n"
      ],
      "execution_count": 0,
      "outputs": []
    },
    {
      "cell_type": "markdown",
      "metadata": {
        "id": "r0-p_UspaFk_",
        "colab_type": "text"
      },
      "source": [
        "## Загрузка статистики из github-репозитория"
      ]
    },
    {
      "cell_type": "code",
      "metadata": {
        "id": "WHX-WShtZlD4",
        "colab_type": "code",
        "colab": {}
      },
      "source": [
        "confirmed_csv = requests.get(\"https://raw.githubusercontent.com/CSSEGISandData/COVID-19/master/csse_covid_19_data/csse_covid_19_time_series/time_series_covid19_confirmed_global.csv\").text\n",
        "recovered_csv = requests.get(\"https://raw.githubusercontent.com/CSSEGISandData/COVID-19/master/csse_covid_19_data/csse_covid_19_time_series/time_series_covid19_recovered_global.csv\").text"
      ],
      "execution_count": 0,
      "outputs": []
    },
    {
      "cell_type": "code",
      "metadata": {
        "id": "Mvtp7rnEmBtS",
        "colab_type": "code",
        "outputId": "eef25bae-0cd6-42ee-a75c-4561a493b29d",
        "colab": {
          "base_uri": "https://localhost:8080/",
          "height": 122
        }
      },
      "source": [
        "days, confirmed_countries = parse_csv(confirmed_csv)\n",
        "days, recovered_countries = parse_csv(recovered_csv)\n",
        "confirmed = confirmed_countries[\"Russia\"]\n",
        "recovered = recovered_countries[\"Russia\"]\n",
        "print(\"Подтвержденные случаи: \", list(zip(days, confirmed)))\n",
        "print()\n",
        "print(\"Случаи выздоровления: \", list(zip(days, recovered)))\n",
        "print()\n",
        "print(len(days), len(recovered))"
      ],
      "execution_count": 0,
      "outputs": [
        {
          "output_type": "stream",
          "text": [
            "Подтвержденные случаи:  [('1/22/20', 0.0), ('1/23/20', 0.0), ('1/24/20', 0.0), ('1/25/20', 0.0), ('1/26/20', 0.0), ('1/27/20', 0.0), ('1/28/20', 0.0), ('1/29/20', 0.0), ('1/30/20', 0.0), ('1/31/20', 2.0), ('2/1/20', 2.0), ('2/2/20', 2.0), ('2/3/20', 2.0), ('2/4/20', 2.0), ('2/5/20', 2.0), ('2/6/20', 2.0), ('2/7/20', 2.0), ('2/8/20', 2.0), ('2/9/20', 2.0), ('2/10/20', 2.0), ('2/11/20', 2.0), ('2/12/20', 2.0), ('2/13/20', 2.0), ('2/14/20', 2.0), ('2/15/20', 2.0), ('2/16/20', 2.0), ('2/17/20', 2.0), ('2/18/20', 2.0), ('2/19/20', 2.0), ('2/20/20', 2.0), ('2/21/20', 2.0), ('2/22/20', 2.0), ('2/23/20', 2.0), ('2/24/20', 2.0), ('2/25/20', 2.0), ('2/26/20', 2.0), ('2/27/20', 2.0), ('2/28/20', 2.0), ('2/29/20', 2.0), ('3/1/20', 2.0), ('3/2/20', 3.0), ('3/3/20', 3.0), ('3/4/20', 3.0), ('3/5/20', 4.0), ('3/6/20', 13.0), ('3/7/20', 13.0), ('3/8/20', 17.0), ('3/9/20', 17.0), ('3/10/20', 20.0), ('3/11/20', 20.0), ('3/12/20', 28.0), ('3/13/20', 45.0), ('3/14/20', 59.0), ('3/15/20', 63.0), ('3/16/20', 90.0), ('3/17/20', 114.0), ('3/18/20', 147.0), ('3/19/20', 199.0), ('3/20/20', 253.0), ('3/21/20', 306.0), ('3/22/20', 367.0), ('3/23/20', 438.0), ('3/24/20', 495.0), ('3/25/20', 658.0), ('3/26/20', 840.0), ('3/27/20', 1036.0), ('3/28/20', 1264.0), ('3/29/20', 1534.0), ('3/30/20', 1836.0), ('3/31/20', 2337.0), ('4/1/20', 2777.0), ('4/2/20', 3548.0), ('4/3/20', 4149.0), ('4/4/20', 4731.0), ('4/5/20', 5389.0), ('4/6/20', 6343.0), ('4/7/20', 7497.0), ('4/8/20', 8672.0), ('4/9/20', 10131.0), ('4/10/20', 11917.0), ('4/11/20', 13584.0), ('4/12/20', 15770.0), ('4/13/20', 18328.0), ('4/14/20', 21102.0), ('4/15/20', 24490.0), ('4/16/20', 27938.0), ('4/17/20', 32008.0), ('4/18/20', 36793.0), ('4/19/20', 42853.0), ('4/20/20', 47121.0), ('4/21/20', 52763.0), ('4/22/20', 57999.0), ('4/23/20', 62773.0), ('4/24/20', 68622.0), ('4/25/20', 74588.0), ('4/26/20', 80949.0), ('4/27/20', 87147.0), ('4/28/20', 93558.0), ('4/29/20', 99399.0), ('4/30/20', 106498.0), ('5/1/20', 114431.0), ('5/2/20', 124054.0), ('5/3/20', 134687.0), ('5/4/20', 145268.0), ('5/5/20', 155370.0), ('5/6/20', 165929.0), ('5/7/20', 177160.0), ('5/8/20', 187859.0), ('5/9/20', 198676.0), ('5/10/20', 209688.0), ('5/11/20', 221344.0), ('5/12/20', 232243.0), ('5/13/20', 242271.0), ('5/14/20', 252245.0), ('5/15/20', 262843.0), ('5/16/20', 272043.0), ('5/17/20', 281752.0), ('5/18/20', 290678.0), ('5/19/20', 299941.0), ('5/20/20', 308705.0), ('5/21/20', 317554.0), ('5/22/20', 326448.0), ('5/23/20', 335882.0), ('5/24/20', 344481.0), ('5/25/20', 353427.0), ('5/26/20', 362342.0)]\n",
            "\n",
            "Случаи выздоровления:  [('1/22/20', 0.0), ('1/23/20', 0.0), ('1/24/20', 0.0), ('1/25/20', 0.0), ('1/26/20', 0.0), ('1/27/20', 0.0), ('1/28/20', 0.0), ('1/29/20', 0.0), ('1/30/20', 0.0), ('1/31/20', 0.0), ('2/1/20', 0.0), ('2/2/20', 0.0), ('2/3/20', 0.0), ('2/4/20', 0.0), ('2/5/20', 0.0), ('2/6/20', 0.0), ('2/7/20', 0.0), ('2/8/20', 0.0), ('2/9/20', 0.0), ('2/10/20', 0.0), ('2/11/20', 0.0), ('2/12/20', 2.0), ('2/13/20', 2.0), ('2/14/20', 2.0), ('2/15/20', 2.0), ('2/16/20', 2.0), ('2/17/20', 2.0), ('2/18/20', 2.0), ('2/19/20', 2.0), ('2/20/20', 2.0), ('2/21/20', 2.0), ('2/22/20', 2.0), ('2/23/20', 2.0), ('2/24/20', 2.0), ('2/25/20', 2.0), ('2/26/20', 2.0), ('2/27/20', 2.0), ('2/28/20', 2.0), ('2/29/20', 2.0), ('3/1/20', 2.0), ('3/2/20', 2.0), ('3/3/20', 2.0), ('3/4/20', 2.0), ('3/5/20', 2.0), ('3/6/20', 2.0), ('3/7/20', 2.0), ('3/8/20', 3.0), ('3/9/20', 3.0), ('3/10/20', 3.0), ('3/11/20', 3.0), ('3/12/20', 3.0), ('3/13/20', 3.0), ('3/14/20', 8.0), ('3/15/20', 8.0), ('3/16/20', 8.0), ('3/17/20', 8.0), ('3/18/20', 8.0), ('3/19/20', 9.0), ('3/20/20', 9.0), ('3/21/20', 12.0), ('3/22/20', 16.0), ('3/23/20', 16.0), ('3/24/20', 22.0), ('3/25/20', 29.0), ('3/26/20', 38.0), ('3/27/20', 45.0), ('3/28/20', 49.0), ('3/29/20', 64.0), ('3/30/20', 66.0), ('3/31/20', 121.0), ('4/1/20', 190.0), ('4/2/20', 235.0), ('4/3/20', 281.0), ('4/4/20', 333.0), ('4/5/20', 355.0), ('4/6/20', 406.0), ('4/7/20', 494.0), ('4/8/20', 580.0), ('4/9/20', 698.0), ('4/10/20', 795.0), ('4/11/20', 1045.0), ('4/12/20', 1291.0), ('4/13/20', 1470.0), ('4/14/20', 1694.0), ('4/15/20', 1986.0), ('4/16/20', 2304.0), ('4/17/20', 2590.0), ('4/18/20', 3057.0), ('4/19/20', 3291.0), ('4/20/20', 3446.0), ('4/21/20', 3873.0), ('4/22/20', 4420.0), ('4/23/20', 4891.0), ('4/24/20', 5568.0), ('4/25/20', 6250.0), ('4/26/20', 6767.0), ('4/27/20', 7346.0), ('4/28/20', 8456.0), ('4/29/20', 10286.0), ('4/30/20', 11619.0), ('5/1/20', 13220.0), ('5/2/20', 15013.0), ('5/3/20', 16639.0), ('5/4/20', 18095.0), ('5/5/20', 19865.0), ('5/6/20', 21327.0), ('5/7/20', 23803.0), ('5/8/20', 26608.0), ('5/9/20', 31916.0), ('5/10/20', 34306.0), ('5/11/20', 39801.0), ('5/12/20', 43512.0), ('5/13/20', 48003.0), ('5/14/20', 53530.0), ('5/15/20', 58226.0), ('5/16/20', 63166.0), ('5/17/20', 67373.0), ('5/18/20', 70209.0), ('5/19/20', 76130.0), ('5/20/20', 85392.0), ('5/21/20', 92681.0), ('5/22/20', 99825.0), ('5/23/20', 107936.0), ('5/24/20', 113299.0), ('5/25/20', 118798.0), ('5/26/20', 131129.0)]\n",
            "\n",
            "126 126\n"
          ],
          "name": "stdout"
        }
      ]
    },
    {
      "cell_type": "markdown",
      "metadata": {
        "id": "CIJcxVdpmH6q",
        "colab_type": "text"
      },
      "source": [
        "## Графики"
      ]
    },
    {
      "cell_type": "code",
      "metadata": {
        "id": "xzmbjVElmTQi",
        "colab_type": "code",
        "outputId": "a44285ab-ede1-403d-9e2b-d623507d96eb",
        "colab": {
          "base_uri": "https://localhost:8080/",
          "height": 295
        }
      },
      "source": [
        "show_graph1(days, confirmed, recovered)"
      ],
      "execution_count": 0,
      "outputs": [
        {
          "output_type": "display_data",
          "data": {
            "image/png": "[encoded data removed]",
            "text/plain": [
              "<Figure size 432x288 with 1 Axes>"
            ]
          },
          "metadata": {
            "tags": [],
            "needs_background": "light"
          }
        }
      ]
    },
    {
      "cell_type": "code",
      "metadata": {
        "id": "FPasuK20peLy",
        "colab_type": "code",
        "colab": {
          "base_uri": "https://localhost:8080/",
          "height": 265
        },
        "outputId": "373b39ea-78fd-41a4-ad79-875ff50a516b"
      },
      "source": [
        "show_graph2(days, confirmed, recovered)"
      ],
      "execution_count": 80,
      "outputs": [
        {
          "output_type": "display_data",
          "data": {
            "image/png": "[encoded data removed]",
            "text/plain": [
              "<Figure size 432x288 with 1 Axes>"
            ]
          },
          "metadata": {
            "tags": [],
            "needs_background": "light"
          }
        }
      ]
    }
  ]
}